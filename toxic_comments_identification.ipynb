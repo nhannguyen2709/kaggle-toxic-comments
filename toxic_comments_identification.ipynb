{
 "cells": [
  {
   "cell_type": "code",
   "execution_count": 1,
   "metadata": {},
   "outputs": [
    {
     "name": "stderr",
     "output_type": "stream",
     "text": [
      "/mnt/d/venv/lib/python3.5/site-packages/h5py/__init__.py:36: FutureWarning: Conversion of the second argument of issubdtype from `float` to `np.floating` is deprecated. In future, it will be treated as `np.float64 == np.dtype(float).type`.\n",
      "  from ._conv import register_converters as _register_converters\n",
      "Using TensorFlow backend.\n"
     ]
    }
   ],
   "source": [
    "%matplotlib inline\n",
    "import matplotlib.pyplot as plt\n",
    "import numpy as np\n",
    "import pandas as pd\n",
    "import os\n",
    "\n",
    "from sklearn.pipeline import Pipeline, make_pipeline\n",
    "from sklearn.feature_extraction.text import TfidfVectorizer\n",
    "from sklearn.model_selection import RandomizedSearchCV\n",
    "from xgboost import XGBClassifier\n",
    "from keras.preprocessing.text import Tokenizer\n",
    "from keras.preprocessing.sequence import pad_sequences\n",
    "from dataset import ToxicCommentsDataset"
   ]
  },
  {
   "cell_type": "markdown",
   "metadata": {},
   "source": [
    "data_dir = '/home/nhan/Downloads/toxic_comments'\n",
    "<br>\n",
    "data_dir = '/mnt/d/kaggle-toxic-comments/data'"
   ]
  },
  {
   "cell_type": "code",
   "execution_count": 2,
   "metadata": {},
   "outputs": [],
   "source": [
    "toxic_comments_dataset = ToxicCommentsDataset('/mnt/d/kaggle-toxic-comments/data',\n",
    "                                              'train.csv',\n",
    "                                              'test.csv')"
   ]
  },
  {
   "cell_type": "code",
   "execution_count": 3,
   "metadata": {},
   "outputs": [],
   "source": [
    "train_texts, y_train, test_texts = toxic_comments_dataset.get_texts_and_train_labels()"
   ]
  },
  {
   "cell_type": "code",
   "execution_count": 4,
   "metadata": {},
   "outputs": [
    {
     "name": "stdout",
     "output_type": "stream",
     "text": [
      "Found 210337 unique tokens in train corpus.\n",
      "Found 394787 unique tokens in test corpus.\n"
     ]
    }
   ],
   "source": [
    "x_train, x_test = toxic_comments_dataset.tokenize_by_keras(max_words=100000, maxlen=150)"
   ]
  },
  {
   "cell_type": "code",
   "execution_count": 20,
   "metadata": {},
   "outputs": [],
   "source": [
    "tf_idf = TfidfVectorizer()\n",
    "xgb = XGBClassifier(silent=False)"
   ]
  },
  {
   "cell_type": "code",
   "execution_count": 9,
   "metadata": {},
   "outputs": [],
   "source": [
    "tf_idf_x_train = tf_idf.fit_transform(train_texts)\n",
    "tf_idf_x_test = tf_idf.fit_transform(test_texts)"
   ]
  },
  {
   "cell_type": "code",
   "execution_count": 23,
   "metadata": {},
   "outputs": [],
   "source": [
    "tf_idf_x_train = tf_idf_x_train[:, :100]"
   ]
  },
  {
   "cell_type": "code",
   "execution_count": 16,
   "metadata": {},
   "outputs": [],
   "source": [
    "param_grid = {'n_estimators': np.array([5, 10, 15, 20, 25]),\n",
    "              'max_depth': np.array([5,10,15,20,25]),\n",
    "              'subsample': np.array([0.5,0.6,0.7,0.8,0.9,1.0]),\n",
    "              'colsample_bytree': np.array([0.5,0.6,0.7,0.8,0.9,1.0]),\n",
    "              'learning_rate': np.array([0.01,0.05,0.10,0.20,0.30,0.40]),\n",
    "              'gamma': np.array([0.00,0.05,0.10,0.15,0.20]),\n",
    "              'scale_pos_weight': np.array([30,40,50,300,400,500,600,700])}"
   ]
  },
  {
   "cell_type": "code",
   "execution_count": 44,
   "metadata": {},
   "outputs": [],
   "source": [
    "randomized = RandomizedSearchCV(xgb, param_distributions=param_grid,\n",
    "                                n_iter=5, scoring='roc_auc')"
   ]
  },
  {
   "cell_type": "code",
   "execution_count": 45,
   "metadata": {},
   "outputs": [
    {
     "data": {
      "text/plain": [
       "RandomizedSearchCV(cv=None, error_score='raise',\n",
       "          estimator=XGBClassifier(base_score=0.5, booster='gbtree', colsample_bylevel=1,\n",
       "       colsample_bytree=1, gamma=0, learning_rate=0.1, max_delta_step=0,\n",
       "       max_depth=3, min_child_weight=1, missing=None, n_estimators=100,\n",
       "       n_jobs=1, nthread=None, objective='binary:logistic', random_state=0,\n",
       "       reg_alpha=0, reg_lambda=1, scale_pos_weight=1, seed=None,\n",
       "       silent=False, subsample=1),\n",
       "          fit_params=None, iid=True, n_iter=5, n_jobs=1,\n",
       "          param_distributions={'gamma': array([0.  , 0.05, 0.1 , 0.15, 0.2 ]), 'n_estimators': array([ 5, 10, 15, 20, 25]), 'scale_pos_weight': array([ 30,  40,  50, 300, 400, 500, 600, 700]), 'learning_rate': array([0.01, 0.05, 0.1 , 0.2 , 0.3 , 0.4 ]), 'colsample_bytree': array([0.5, 0.6, 0.7, 0.8, 0.9, 1. ]), 'max_depth': array([ 5, 10, 15, 20, 25]), 'subsample': array([0.5, 0.6, 0.7, 0.8, 0.9, 1. ])},\n",
       "          pre_dispatch='2*n_jobs', random_state=None, refit=True,\n",
       "          return_train_score='warn', scoring='roc_auc', verbose=0)"
      ]
     },
     "execution_count": 45,
     "metadata": {},
     "output_type": "execute_result"
    }
   ],
   "source": [
    "randomized.fit(tf_idf_x_train, y_train[:, 0])"
   ]
  },
  {
   "cell_type": "code",
   "execution_count": null,
   "metadata": {},
   "outputs": [],
   "source": [
    "from sklearn.model_selection import "
   ]
  },
  {
   "cell_type": "code",
   "execution_count": null,
   "metadata": {},
   "outputs": [],
   "source": []
  },
  {
   "cell_type": "code",
   "execution_count": null,
   "metadata": {},
   "outputs": [],
   "source": []
  },
  {
   "cell_type": "code",
   "execution_count": 3,
   "metadata": {},
   "outputs": [
    {
     "data": {
      "text/html": [
       "<div>\n",
       "<style scoped>\n",
       "    .dataframe tbody tr th:only-of-type {\n",
       "        vertical-align: middle;\n",
       "    }\n",
       "\n",
       "    .dataframe tbody tr th {\n",
       "        vertical-align: top;\n",
       "    }\n",
       "\n",
       "    .dataframe thead th {\n",
       "        text-align: right;\n",
       "    }\n",
       "</style>\n",
       "<table border=\"1\" class=\"dataframe\">\n",
       "  <thead>\n",
       "    <tr style=\"text-align: right;\">\n",
       "      <th></th>\n",
       "      <th>toxic</th>\n",
       "      <th>severe_toxic</th>\n",
       "      <th>obscene</th>\n",
       "      <th>threat</th>\n",
       "      <th>insult</th>\n",
       "      <th>identity_hate</th>\n",
       "    </tr>\n",
       "  </thead>\n",
       "  <tbody>\n",
       "    <tr>\n",
       "      <th>0</th>\n",
       "      <td>0.070621</td>\n",
       "      <td>0.036615</td>\n",
       "      <td>0.046710</td>\n",
       "      <td>0.000242</td>\n",
       "      <td>0.085841</td>\n",
       "      <td>0.422239</td>\n",
       "    </tr>\n",
       "    <tr>\n",
       "      <th>1</th>\n",
       "      <td>0.064460</td>\n",
       "      <td>0.092891</td>\n",
       "      <td>0.044754</td>\n",
       "      <td>0.000390</td>\n",
       "      <td>0.055833</td>\n",
       "      <td>0.425043</td>\n",
       "    </tr>\n",
       "    <tr>\n",
       "      <th>2</th>\n",
       "      <td>0.074079</td>\n",
       "      <td>0.024515</td>\n",
       "      <td>0.037966</td>\n",
       "      <td>0.000172</td>\n",
       "      <td>0.108841</td>\n",
       "      <td>0.417938</td>\n",
       "    </tr>\n",
       "    <tr>\n",
       "      <th>3</th>\n",
       "      <td>0.045645</td>\n",
       "      <td>0.023171</td>\n",
       "      <td>0.045993</td>\n",
       "      <td>0.000193</td>\n",
       "      <td>0.030483</td>\n",
       "      <td>0.417684</td>\n",
       "    </tr>\n",
       "    <tr>\n",
       "      <th>4</th>\n",
       "      <td>0.897002</td>\n",
       "      <td>0.235093</td>\n",
       "      <td>0.545828</td>\n",
       "      <td>0.001552</td>\n",
       "      <td>0.815214</td>\n",
       "      <td>0.465578</td>\n",
       "    </tr>\n",
       "  </tbody>\n",
       "</table>\n",
       "</div>"
      ],
      "text/plain": [
       "      toxic  severe_toxic   obscene    threat    insult  identity_hate\n",
       "0  0.070621      0.036615  0.046710  0.000242  0.085841       0.422239\n",
       "1  0.064460      0.092891  0.044754  0.000390  0.055833       0.425043\n",
       "2  0.074079      0.024515  0.037966  0.000172  0.108841       0.417938\n",
       "3  0.045645      0.023171  0.045993  0.000193  0.030483       0.417684\n",
       "4  0.897002      0.235093  0.545828  0.001552  0.815214       0.465578"
      ]
     },
     "execution_count": 3,
     "metadata": {},
     "output_type": "execute_result"
    }
   ],
   "source": [
    "outputs = pd.read_csv('outputs/xgb_outputs.csv')\n",
    "outputs.head()"
   ]
  },
  {
   "cell_type": "code",
   "execution_count": 4,
   "metadata": {},
   "outputs": [],
   "source": [
    "toxic_comments_dataset = ToxicCommentsDataset(data_dir='/home/nhan/Downloads/toxic_comments',\n",
    "                                              train_csv_file='train.csv',\n",
    "                                              test_csv_file='test.csv')"
   ]
  },
  {
   "cell_type": "code",
   "execution_count": 5,
   "metadata": {},
   "outputs": [],
   "source": [
    "train_texts, y_train, test_texts = toxic_comments_dataset.get_texts_and_train_labels()"
   ]
  },
  {
   "cell_type": "code",
   "execution_count": 12,
   "metadata": {},
   "outputs": [],
   "source": [
    "predictions_on_test = outputs.iloc[len(train_texts):, :]"
   ]
  },
  {
   "cell_type": "code",
   "execution_count": 13,
   "metadata": {},
   "outputs": [
    {
     "data": {
      "text/plain": [
       "True"
      ]
     },
     "execution_count": 13,
     "metadata": {},
     "output_type": "execute_result"
    }
   ],
   "source": [
    "len(predictions_on_test) == len(test_texts)"
   ]
  },
  {
   "cell_type": "code",
   "execution_count": 16,
   "metadata": {},
   "outputs": [
    {
     "name": "stderr",
     "output_type": "stream",
     "text": [
      "/usr/local/lib/python3.5/dist-packages/pandas/core/indexing.py:357: SettingWithCopyWarning: \n",
      "A value is trying to be set on a copy of a slice from a DataFrame.\n",
      "Try using .loc[row_indexer,col_indexer] = value instead\n",
      "\n",
      "See the caveats in the documentation: http://pandas.pydata.org/pandas-docs/stable/indexing.html#indexing-view-versus-copy\n",
      "  self.obj[key] = _infer_fill_value(value)\n",
      "/usr/local/lib/python3.5/dist-packages/pandas/core/indexing.py:537: SettingWithCopyWarning: \n",
      "A value is trying to be set on a copy of a slice from a DataFrame.\n",
      "Try using .loc[row_indexer,col_indexer] = value instead\n",
      "\n",
      "See the caveats in the documentation: http://pandas.pydata.org/pandas-docs/stable/indexing.html#indexing-view-versus-copy\n",
      "  self.obj[item] = s\n"
     ]
    }
   ],
   "source": [
    "test_idx = pd.read_csv(os.path.join('/home/nhan/Downloads/toxic_comments', 'test.csv')).iloc[:, 0]"
   ]
  },
  {
   "cell_type": "code",
   "execution_count": 22,
   "metadata": {},
   "outputs": [],
   "source": [
    "columns = predictions_on_test.columns.tolist()\n",
    "columns = columns[-1:] + columns[:-1]\n",
    "predictions_on_test = predictions_on_test[columns]"
   ]
  },
  {
   "cell_type": "code",
   "execution_count": 17,
   "metadata": {},
   "outputs": [],
   "source": [
    "predictions_on_test.loc[:, 'id'] = test_idx.values\n",
    "predictions_on_test.to_csv('outputs/xgb_outputs_test_with_idx.csv', index=False)"
   ]
  },
  {
   "cell_type": "code",
   "execution_count": 18,
   "metadata": {},
   "outputs": [
    {
     "data": {
      "text/plain": [
       "True"
      ]
     },
     "execution_count": 18,
     "metadata": {},
     "output_type": "execute_result"
    }
   ],
   "source": [
    "predictions_on_train = outputs.iloc[:len(train_texts), :]\n",
    "len(predictions_on_train) == len(train_texts)"
   ]
  },
  {
   "cell_type": "code",
   "execution_count": 19,
   "metadata": {},
   "outputs": [],
   "source": [
    "train_idx = pd.read_csv(os.path.join('/home/nhan/Downloads/toxic_comments', 'train.csv')).iloc[:, 0]"
   ]
  },
  {
   "cell_type": "code",
   "execution_count": 20,
   "metadata": {},
   "outputs": [
    {
     "name": "stderr",
     "output_type": "stream",
     "text": [
      "/usr/local/lib/python3.5/dist-packages/pandas/core/indexing.py:357: SettingWithCopyWarning: \n",
      "A value is trying to be set on a copy of a slice from a DataFrame.\n",
      "Try using .loc[row_indexer,col_indexer] = value instead\n",
      "\n",
      "See the caveats in the documentation: http://pandas.pydata.org/pandas-docs/stable/indexing.html#indexing-view-versus-copy\n",
      "  self.obj[key] = _infer_fill_value(value)\n",
      "/usr/local/lib/python3.5/dist-packages/pandas/core/indexing.py:537: SettingWithCopyWarning: \n",
      "A value is trying to be set on a copy of a slice from a DataFrame.\n",
      "Try using .loc[row_indexer,col_indexer] = value instead\n",
      "\n",
      "See the caveats in the documentation: http://pandas.pydata.org/pandas-docs/stable/indexing.html#indexing-view-versus-copy\n",
      "  self.obj[item] = s\n"
     ]
    }
   ],
   "source": [
    "predictions_on_train.loc[:, 'id'] = train_idx.values\n",
    "predictions_on_train = predictions_on_train[columns]\n",
    "predictions_on_train.to_csv('outputs/xgb_outputs_train_with_idx.csv', index=False)"
   ]
  }
 ],
 "metadata": {
  "kernelspec": {
   "display_name": "Python 3",
   "language": "python",
   "name": "python3"
  },
  "language_info": {
   "codemirror_mode": {
    "name": "ipython",
    "version": 3
   },
   "file_extension": ".py",
   "mimetype": "text/x-python",
   "name": "python",
   "nbconvert_exporter": "python",
   "pygments_lexer": "ipython3",
   "version": "3.5.2"
  }
 },
 "nbformat": 4,
 "nbformat_minor": 2
}
